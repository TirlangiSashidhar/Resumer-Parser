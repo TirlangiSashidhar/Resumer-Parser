{
  "nbformat": 4,
  "nbformat_minor": 0,
  "metadata": {
    "colab": {
      "provenance": []
    },
    "kernelspec": {
      "name": "python3",
      "display_name": "Python 3"
    },
    "language_info": {
      "name": "python"
    }
  },
  "cells": [
    {
      "cell_type": "markdown",
      "source": [
        "# END CAPSTONE ( RESUME PARSER )"
      ],
      "metadata": {
        "id": "gT8wQ8j7YY9M"
      }
    },
    {
      "cell_type": "markdown",
      "source": [
        "# PYTHON SCRIPT THAT USES LIBRARIES LIKE PYPDF2 OR DOCX TO EXTRACT TEXT FROM PDF AND DOCX RESUME FILES\n",
        "\n",
        "\n"
      ],
      "metadata": {
        "id": "RDPIuzJjYQa6"
      }
    },
    {
      "cell_type": "code",
      "source": [
        "# INSTALLING REQUIRED LIBRARIES FOR EXTRACTION\n",
        "!pip install python-docx\n",
        "!pip install PyPDF2"
      ],
      "metadata": {
        "colab": {
          "base_uri": "https://localhost:8080/"
        },
        "collapsed": true,
        "id": "Oya-kWU4nOHd",
        "outputId": "c0f0acb4-cd6d-43f3-fb69-3f5d46815263"
      },
      "execution_count": null,
      "outputs": [
        {
          "output_type": "stream",
          "name": "stdout",
          "text": [
            "Collecting python-docx\n",
            "  Downloading python_docx-1.1.2-py3-none-any.whl.metadata (2.0 kB)\n",
            "Requirement already satisfied: lxml>=3.1.0 in /usr/local/lib/python3.10/dist-packages (from python-docx) (4.9.4)\n",
            "Requirement already satisfied: typing-extensions>=4.9.0 in /usr/local/lib/python3.10/dist-packages (from python-docx) (4.12.2)\n",
            "Downloading python_docx-1.1.2-py3-none-any.whl (244 kB)\n",
            "\u001b[?25l   \u001b[90m━━━━━━━━━━━━━━━━━━━━━━━━━━━━━━━━━━━━━━━━\u001b[0m \u001b[32m0.0/244.3 kB\u001b[0m \u001b[31m?\u001b[0m eta \u001b[36m-:--:--\u001b[0m\r\u001b[2K   \u001b[90m━━━━━━━━━━━━━━━━━━━━━━━━━━━━━━━━━━━━━━━━\u001b[0m \u001b[32m244.3/244.3 kB\u001b[0m \u001b[31m10.6 MB/s\u001b[0m eta \u001b[36m0:00:00\u001b[0m\n",
            "\u001b[?25hInstalling collected packages: python-docx\n",
            "Successfully installed python-docx-1.1.2\n",
            "Collecting PyPDF2\n",
            "  Downloading pypdf2-3.0.1-py3-none-any.whl.metadata (6.8 kB)\n",
            "Downloading pypdf2-3.0.1-py3-none-any.whl (232 kB)\n",
            "\u001b[2K   \u001b[90m━━━━━━━━━━━━━━━━━━━━━━━━━━━━━━━━━━━━━━━━\u001b[0m \u001b[32m232.6/232.6 kB\u001b[0m \u001b[31m11.1 MB/s\u001b[0m eta \u001b[36m0:00:00\u001b[0m\n",
            "\u001b[?25hInstalling collected packages: PyPDF2\n",
            "Successfully installed PyPDF2-3.0.1\n"
          ]
        }
      ]
    },
    {
      "cell_type": "markdown",
      "source": [
        "* EXTRACTING TEXT FROM THE DOCUMENT OR PDF FILE\n"
      ],
      "metadata": {
        "id": "r83EET00RhBm"
      }
    },
    {
      "cell_type": "code",
      "source": [
        "import os\n",
        "import re\n",
        "import PyPDF2\n",
        "import docx\n",
        "import openpyxl\n",
        "\n",
        "# FUNCTION TO EXTRACT TEXT FROM PDF FILES\n",
        "def extract_text_from_pdf(file_path):\n",
        "    text = \"\"\n",
        "    with open(file_path, 'rb') as file:\n",
        "        reader = PyPDF2.PdfReader(file)\n",
        "        for page_num in range(len(reader.pages)):\n",
        "            text += reader.pages[page_num].extract_text()\n",
        "    return text\n",
        "\n",
        "# FUNCTION TO EXTRACT TEXT FROM DOCX FILES\n",
        "def extract_text_from_docx(file_path):\n",
        "    doc = docx.Document(file_path)\n",
        "    text = \"\\n\".join([para.text for para in doc.paragraphs])\n",
        "    return text\n"
      ],
      "metadata": {
        "id": "fUpGL4wN0wmz"
      },
      "execution_count": null,
      "outputs": []
    },
    {
      "cell_type": "markdown",
      "source": [
        "* EXTRACTING IMPORTANT DETAILS FROM THE RESUME"
      ],
      "metadata": {
        "id": "OTfOI3SBRtbb"
      }
    },
    {
      "cell_type": "code",
      "source": [
        "# FUNCTION TO EXTRACT NAME\n",
        "def extract_name(text):\n",
        "    # LOOK FOR THE NAME ASSUMING IT APPEARS AT THE START OF THE RESUME\n",
        "    name_match = re.search(r'([A-Z][a-z]+\\s[A-Z][a-z]+)', text)\n",
        "    if name_match:\n",
        "        return name_match.group(0)\n",
        "    return \"Name Not Found\"\n",
        "\n",
        "# FUNCTION TO EXTRACT EMAIL ADDRESS\n",
        "def extract_email(text):\n",
        "    email_match = re.search(r'[\\w\\.-]+@[\\w\\.-]+', text)\n",
        "    if email_match:\n",
        "        return email_match.group(0)\n",
        "    return \"Email Not Found\"\n",
        "\n",
        "# FUNCTION TO EXTRACT PHONE NUMBER\n",
        "def extract_phone(text):\n",
        "    phone_match = re.search(r'(\\(\\d{3}\\)\\s*\\d{3}-\\d{4})', text)\n",
        "    if phone_match:\n",
        "        return phone_match.group(0)\n",
        "    return \"Phone Number Not Found\"\n",
        "\n",
        "# FUNCTION TO EXTRACT SKILLS\n",
        "def extract_skills(text):\n",
        "    skill_match = re.search(r'Skills:?\\s*(.*)', text, re.IGNORECASE)\n",
        "    if skill_match:\n",
        "        return skill_match.group(1).strip()\n",
        "    return \"Skills Not Found\"\n",
        "\n",
        "# FUNCTION TO EXTRACT EXPERIENCE\n",
        "def extract_experience(text):\n",
        "    experience_match = re.search(r'Experience:?\\s*(.*?)Education:', text, re.DOTALL | re.IGNORECASE)\n",
        "    if experience_match:\n",
        "        return experience_match.group(1).strip()\n",
        "    return \"Experience Not Found\"\n",
        "\n",
        "# FUNCTION TO EXTRACT EDUCATION\n",
        "def extract_education(text):\n",
        "    education_match = re.search(r'Education:?\\s*(.*)', text, re.IGNORECASE)\n",
        "    if education_match:\n",
        "        return education_match.group(1).strip()\n",
        "    return \"Education Not Found\"\n"
      ],
      "metadata": {
        "id": "jQ_qtSvJWqP1"
      },
      "execution_count": null,
      "outputs": []
    },
    {
      "cell_type": "markdown",
      "source": [
        "* CREATING FUNCTION TO PARSE RESUME DATA INTO EXCEL SHEET"
      ],
      "metadata": {
        "id": "0CskAWPpR2Gf"
      }
    },
    {
      "cell_type": "code",
      "source": [
        "# FUNCTION TO PARSE RESUMES AND WRITE TO EXCEL\n",
        "def parse_and_write_to_excel(input_folder, output_excel):\n",
        "    # CREATE A NEW EXCEL WORKBOOK\n",
        "    workbook = openpyxl.Workbook()\n",
        "    sheet = workbook.active\n",
        "    sheet.title = \"Resumes\"\n",
        "\n",
        "    # SET COLUMN HEADERS\n",
        "    sheet['A1'] = \"Name\"\n",
        "    sheet['B1'] = \"Email\"\n",
        "    sheet['C1'] = \"Phone\"\n",
        "    sheet['D1'] = \"Skills\"\n",
        "    sheet['E1'] = \"Experience\"\n",
        "    sheet['F1'] = \"Education\"\n",
        "\n",
        "    row = 2  # START WRITING IN NEW LINE\n",
        "\n",
        "    # GO THROUGH EACH FILE\n",
        "    for filename in os.listdir(input_folder):\n",
        "        file_path = os.path.join(input_folder, filename)\n",
        "\n",
        "        # CHECK IF FILE IS IN PDF OR DOCX FORMAT\n",
        "        if filename.endswith('.pdf'):\n",
        "            resume_text = extract_text_from_pdf(file_path)\n",
        "        elif filename.endswith('.docx'):\n",
        "            resume_text = extract_text_from_docx(file_path)\n",
        "        else:\n",
        "            print(f\"Skipping unsupported file type: {filename}\")\n",
        "            continue  # SKIP UNSUPPORTED FILE TYPE\n",
        "\n",
        "        # EXTRACT FILEDS FROM RESUME\n",
        "        name = extract_name(resume_text)\n",
        "        email = extract_email(resume_text)\n",
        "        phone = extract_phone(resume_text)\n",
        "        skills = extract_skills(resume_text)\n",
        "        experience = extract_experience(resume_text)\n",
        "        education = extract_education(resume_text)\n",
        "\n",
        "        # WRITE DATA INTO EXCEL SHEET\n",
        "        sheet.cell(row=row, column=1, value=name)\n",
        "        sheet.cell(row=row, column=2, value=email)\n",
        "        sheet.cell(row=row, column=3, value=phone)\n",
        "        sheet.cell(row=row, column=4, value=skills)\n",
        "        sheet.cell(row=row, column=5, value=experience)\n",
        "        sheet.cell(row=row, column=6, value=education)\n",
        "\n",
        "        row += 1  # MOVE TO NEXT ROW FOR NEW RESUME DATA\n",
        "\n",
        "    # SAVE THE EXCEL FILE\n",
        "    workbook.save(output_excel)\n",
        "    print(f\"Data saved to {output_excel}\")\n"
      ],
      "metadata": {
        "id": "wfx-dDFk1HoX"
      },
      "execution_count": null,
      "outputs": []
    },
    {
      "cell_type": "markdown",
      "source": [
        "* PROVIDE THE INPUT FOLDER WITH RESUMES AND OUTPUT EXCEL FILE FOR PARSE DATA\n"
      ],
      "metadata": {
        "id": "qHiNYz5hSu7A"
      }
    },
    {
      "cell_type": "code",
      "source": [
        "input_folder = '/content/drive/MyDrive/Resume_samples'\n",
        "output_excel = '/content/drive/MyDrive/resume_data.xlsx'\n",
        "parse_and_write_to_excel(input_folder, output_excel)"
      ],
      "metadata": {
        "colab": {
          "base_uri": "https://localhost:8080/"
        },
        "id": "sbmHrWij1OFN",
        "outputId": "d81d4d2c-c015-4a46-904b-191d4fd4c19c"
      },
      "execution_count": null,
      "outputs": [
        {
          "output_type": "stream",
          "name": "stdout",
          "text": [
            "Data saved to /content/drive/MyDrive/resume_data.xlsx\n"
          ]
        }
      ]
    },
    {
      "cell_type": "markdown",
      "source": [
        "# PYTHON CLASS RESUME ANALYZER THAT PERFORMS STATISTICAL ANALYSIS ON THE RESUME DATA. INCLUDE METHODS TO VISUALIZE THE DISTRIBUTION OF YEARS OF EXPERIENCE AND THE FREQUENCY OF DIFFERENT SKILLS"
      ],
      "metadata": {
        "id": "btkelLB5VVDE"
      }
    },
    {
      "source": [
        "import pandas as pd\n",
        "import numpy as np\n",
        "import seaborn as sns\n",
        "import matplotlib.pyplot as plt\n",
        "import re\n",
        "\n",
        "class ResumeAnalyzer:\n",
        "    def __init__(self, data_path):\n",
        "        \"\"\"INITIALIZE THE RESUMEANALYZER WITH THE DATASET.\"\"\"\n",
        "        self.data = pd.read_excel(data_path)\n",
        "\n",
        "\n",
        "\n",
        "    def experience_distribution(self):\n",
        "        \"\"\"PLOT THE DISTRIBUTION OF YEARS OF EXPERIENCE ACCURATELY.\"\"\"\n",
        "        def extract_experience(exp):\n",
        "            if pd.isnull(exp):\n",
        "                return np.nan\n",
        "            # PATTERNS FOR VARIOUS FORMATS OF EXPERIENCE\n",
        "            experience_match = re.search(r'\\d+\\+?\\s*year', exp, re.IGNORECASE)\n",
        "            if experience_match:\n",
        "                exp = experience_match.group(0)\n",
        "                if '-' in exp:\n",
        "                    return float(exp.split('-')[0])\n",
        "                # IF EXPERIENCE CONTAINS \"LESS THAN A YEAR\" OR SIMILAR\n",
        "                elif 'less' in exp.lower() or 'fresher' in exp.lower():\n",
        "                    return 0.0\n",
        "                else:\n",
        "                    # EXTRACT NUMBERS INCLUDIND DECIMAL PART\n",
        "                    return float(re.findall(r'\\d*\\.?\\d+', exp)[0])\n",
        "            else:\n",
        "                return np.nan\n",
        "\n",
        "        # APPLY THE EXTRACTION FUNCTION TO THE 'EXPERIENCE' COLUMN\n",
        "        self.data['Years_of_Experience'] = self.data['Experience'].apply(extract_experience)\n",
        "\n",
        "        # DROPPING ROWS WITH NA VALUES\n",
        "        experience_data = self.data['Years_of_Experience'].dropna()\n",
        "\n",
        "        # PLOTTING THE DISTRIBUTION\n",
        "        plt.figure(figsize=(10, 6))\n",
        "        sns.histplot(experience_data, bins=10, kde=True, color='skyblue')\n",
        "        plt.title('Distribution of Years of Experience')\n",
        "        plt.xlabel('Years of Experience')\n",
        "        plt.ylabel('Frequency')\n",
        "        plt.show()\n",
        "\n",
        "    def skills_frequency(self):\n",
        "        \"\"\"PLOT THE FREQUENCY OF DIFFERENT SKILLS.\"\"\"\n",
        "        all_skills = self.data['Skills'].dropna().str.split(',').sum()\n",
        "        skill_counts = pd.Series(all_skills).value_counts()\n",
        "\n",
        "        # PLOTTING THE TOP 10 MOST FREQUENT SKILLS\n",
        "        plt.figure(figsize=(12, 8))\n",
        "        sns.barplot(x=skill_counts.head(10).values, y=skill_counts.head(10).index, palette='viridis')\n",
        "        plt.title('Top 10 Most Frequent Skills')\n",
        "        plt.xlabel('Frequency')\n",
        "        plt.ylabel('Skills')\n",
        "        plt.show()\n",
        "\n",
        "\n",
        "# OUTPUT\n",
        "analyzer = ResumeAnalyzer(\"/content/drive/MyDrive/resume_data.xlsx\")\n",
        "analyzer.experience_distribution()\n",
        "analyzer.skills_frequency()"
      ],
      "cell_type": "code",
      "metadata": {
        "colab": {
          "base_uri": "https://localhost:8080/",
          "height": 1000
        },
        "id": "-rNuZfB2NJkc",
        "outputId": "ebfddfca-bce2-41fe-f7d4-d62c3f5173ad"
      },
      "execution_count": null,
      "outputs": [
        {
          "output_type": "display_data",
          "data": {
            "text/plain": [
              "<Figure size 1000x600 with 1 Axes>"
            ],
            "image/png": "[encoded data removed]"
          },
          "metadata": {}
        },
        {
          "output_type": "stream",
          "name": "stderr",
          "text": [
            "<ipython-input-8-983d4e35f7fa>:58: FutureWarning: \n",
            "\n",
            "Passing `palette` without assigning `hue` is deprecated and will be removed in v0.14.0. Assign the `y` variable to `hue` and set `legend=False` for the same effect.\n",
            "\n",
            "  sns.barplot(x=skill_counts.head(10).values, y=skill_counts.head(10).index, palette='viridis')\n"
          ]
        },
        {
          "output_type": "display_data",
          "data": {
            "text/plain": [
              "<Figure size 1200x800 with 1 Axes>"
            ],
            "image/png": "[encoded data removed]"
          },
          "metadata": {}
        }
      ]
    },
    {
      "cell_type": "markdown",
      "source": [
        "# PYTHON SCRIPT THAT USES THE XGBOOST ALGORITHM TO PREDICT THE PRIMARY SKILL OF A RESUME BASED ON ITS CONTENT\n"
      ],
      "metadata": {
        "id": "TiRT80MzWwPm"
      }
    },
    {
      "source": [
        "!pip install xgboost\n",
        "!pip install openpyxl"
      ],
      "cell_type": "code",
      "metadata": {
        "colab": {
          "base_uri": "https://localhost:8080/"
        },
        "id": "Ci5TfgbGO830",
        "outputId": "a82fa4f7-e218-435b-e34d-111dbcf9f402"
      },
      "execution_count": null,
      "outputs": [
        {
          "output_type": "stream",
          "name": "stdout",
          "text": [
            "Requirement already satisfied: xgboost in /usr/local/lib/python3.10/dist-packages (2.1.1)\n",
            "Requirement already satisfied: numpy in /usr/local/lib/python3.10/dist-packages (from xgboost) (1.26.4)\n",
            "Requirement already satisfied: nvidia-nccl-cu12 in /usr/local/lib/python3.10/dist-packages (from xgboost) (2.23.4)\n",
            "Requirement already satisfied: scipy in /usr/local/lib/python3.10/dist-packages (from xgboost) (1.13.1)\n",
            "Requirement already satisfied: openpyxl in /usr/local/lib/python3.10/dist-packages (3.1.5)\n",
            "Requirement already satisfied: et-xmlfile in /usr/local/lib/python3.10/dist-packages (from openpyxl) (1.1.0)\n"
          ]
        }
      ]
    },
    {
      "source": [
        "import pandas as pd\n",
        "import xgboost as xgb\n",
        "from sklearn.model_selection import train_test_split\n",
        "from sklearn.feature_extraction.text import TfidfVectorizer\n",
        "from sklearn.metrics import accuracy_score\n",
        "from sklearn.preprocessing import LabelEncoder\n",
        "import pickle\n",
        "\n",
        "\n",
        "class ResumeSkillPredictor:\n",
        "    def __init__(self, data_file):\n",
        "        \"\"\"INITIALIZE THE RESUMESKILLPREDICTOR WITH THE DATASET.\"\"\"\n",
        "        self.data_file = data_file\n",
        "        self.model = None\n",
        "        self.vectorizer = TfidfVectorizer()\n",
        "\n",
        "    def load_data(self):\n",
        "        \"\"\"LOAD THE RESUME DATA\"\"\"\n",
        "        self.data = pd.read_excel(self.data_file)\n",
        "        print(\"Data loaded successfully.\")\n",
        "\n",
        "    def preprocess_data(self):\n",
        "        \"\"\"PREPROCESS THE DATA FOR MODEL TRAINING.\"\"\"\n",
        "        # CREATING A 'CONTENT' COLUMN BY COMBINING RELEVANT DATA\n",
        "        self.data['Content'] = self.data['Skills'].fillna('') + ' ' + \\\n",
        "            self.data['Experience'].fillna('') + ' ' + \\\n",
        "            self.data['Education'].fillna('')\n",
        "\n",
        "        X = self.data['Content']\n",
        "        y = self.data['Skills']\n",
        "        self.X_train, self.X_test, self.y_train, self.y_test = train_test_split(\n",
        "            X, y, test_size=0.2, random_state=42)\n",
        "        print(\"Data preprocessed successfully.\")\n",
        "\n",
        "    def feature_extraction(self):\n",
        "        \"\"\"EXTRACT FEATURES USING TF-IDF VECTORIZATION.\"\"\"\n",
        "        self.X_train_tfidf = self.vectorizer.fit_transform(self.X_train)\n",
        "        self.X_test_tfidf = self.vectorizer.transform(self.X_test)\n",
        "        print(\"Features extracted successfully.\")\n",
        "\n",
        "    def train_model(self):\n",
        "        \"\"\"TRAIN THE XGBOOST MODEL.\"\"\"\n",
        "        self.le = LabelEncoder()\n",
        "        # FIT AND TRANSFORM Y_TRAIN\n",
        "        self.y_train = self.le.fit_transform(self.y_train)\n",
        "        self.model = xgb.XGBClassifier(\n",
        "            use_label_encoder=False, eval_metric='mlogloss')\n",
        "        self.model.fit(self.X_train_tfidf, self.y_train)\n",
        "        print(\"Model trained successfully.\")\n",
        "\n",
        "    def evaluate_model(self):\n",
        "        \"\"\"EVALUATE THE MODEL'S PERFORMANCE.\"\"\"\n",
        "        y_pred = self.model.predict(self.X_test_tfidf)\n",
        "        # INVERSE TRANSFORM THE PREDICTED LABELS\n",
        "        y_pred = self.le.inverse_transform(y_pred)\n",
        "        accuracy = accuracy_score(self.y_test, y_pred)\n",
        "        print(f\"Model accuracy: {accuracy:.2f}\")\n",
        "\n",
        "    def save_model(self, model_file):\n",
        "        \"\"\"SAVE THE TRAINED MODEL TO A FILE.\"\"\"\n",
        "        with open(model_file, 'wb') as f:\n",
        "            pickle.dump(self.model, f)\n",
        "        with open('vectorizer.pkl', 'wb') as f:\n",
        "            pickle.dump(self.vectorizer, f)\n",
        "        with open('label_encoder.pkl', 'wb') as f:\n",
        "            pickle.dump(self.le, f)\n",
        "        print(\"Model saved successfully.\")\n",
        "\n",
        "    def load_model(self, model_file):\n",
        "        \"\"\"LOAD A TRAINED MODEL FROM A FILE.\"\"\"\n",
        "        with open(model_file, 'rb') as f:\n",
        "            self.model = pickle.load(f)\n",
        "        with open('vectorizer.pkl', 'rb') as f:\n",
        "            self.vectorizer = pickle.load(f)\n",
        "        with open('label_encoder.pkl', 'rb') as f:\n",
        "            self.le = pickle.load(f)\n",
        "        print(\"Model loaded successfully.\")\n",
        "\n",
        "    def predict(self, new_resume):\n",
        "        \"\"\"PREDICT THE PRIMARY SKILL FOR A NEW RESUME.\"\"\"\n",
        "        new_resume_tfidf = self.vectorizer.transform([new_resume])\n",
        "        prediction = self.model.predict(new_resume_tfidf)\n",
        "        prediction = self.le.inverse_transform(prediction)\n",
        "        return prediction[0]\n",
        "\n",
        "# OUTPUT\n",
        "predictor = ResumeSkillPredictor(\n",
        "data_file='/content/drive/MyDrive/resume_data.xlsx')"
      ],
      "cell_type": "code",
      "metadata": {
        "id": "4v8eJAuPRD3C"
      },
      "execution_count": null,
      "outputs": []
    },
    {
      "cell_type": "code",
      "source": [
        "predictor = ResumeSkillPredictor(data_file='/content/drive/MyDrive/resume_data.xlsx')  # Change to your Excel file\n",
        "predictor.load_data()\n",
        "\n",
        "# CHECK IF DATA LOADED CORRECTLY\n",
        "print(predictor.data.head())\n",
        "predictor.preprocess_data()\n",
        "predictor.feature_extraction()\n",
        "predictor.train_model()\n",
        "predictor.evaluate_model()\n",
        "\n",
        "# PREDECTING A NEW RESUME\n",
        "new_resume_content = \"Experienced software engineer with skills in Python, Java, and machine learning.\"\n",
        "predicted_skill = predictor.predict(new_resume_content)\n",
        "print(f\"The predicted primary skill is: {predicted_skill}\")\n"
      ],
      "metadata": {
        "colab": {
          "base_uri": "https://localhost:8080/"
        },
        "id": "KZDhux9wVt5V",
        "outputId": "617f2c14-30c0-47d4-e323-2f64e259c824"
      },
      "execution_count": null,
      "outputs": [
        {
          "output_type": "stream",
          "name": "stdout",
          "text": [
            "Data loaded successfully.\n",
            "              Name                    Email           Phone  \\\n",
            "0         John Doe      johndoe@example.com  (312) 555-0123   \n",
            "1        Sarah Lee     sarahlee@example.com  (512) 555-0145   \n",
            "2  Michael Johnson     michaelj@example.com  (720) 555-0198   \n",
            "3   Emma Rodriguez      emmarod@example.com  (206) 555-0223   \n",
            "4      David Smith  david.smith@example.com  (415) 555-0334   \n",
            "\n",
            "                                              Skills  \\\n",
            "0  JavaScript, Python, React, Node.js, PostgreSQL...   \n",
            "1  SQL, Python, Power BI, Tableau, Excel, R, Data...   \n",
            "2  Windows OS, Mac OS, Active Directory, Networki...   \n",
            "3  Windows Server, Linux, VMware, Active Director...   \n",
            "4  Cisco Networking, VPN, Firewalls, Network Secu...   \n",
            "\n",
            "                                          Experience  \\\n",
            "0  in building web applications and backend servi...   \n",
            "1  using SQL, Python, and Power BI to provide act...   \n",
            "2  providing technical support, troubleshooting h...   \n",
            "3  in managing, configuring, and maintaining IT i...   \n",
            "4  designing and implementing secure and scalable...   \n",
            "\n",
            "                                           Education  \n",
            "0  Bachelor of Science in Computer Science – Univ...  \n",
            "1  Bachelor of Science in Data Science – Universi...  \n",
            "2  Associate of Science in Information Technology...  \n",
            "3  Bachelor of Science in Information Systems – U...  \n",
            "4  Bachelor of Science in Network Engineering – S...  \n",
            "Data preprocessed successfully.\n",
            "Features extracted successfully.\n",
            "Model trained successfully.\n",
            "Model accuracy: 0.00\n",
            "The predicted primary skill is: AWS, Azure, Cloud Architecture, Migration, Kubernetes, Terraform, Docker\n"
          ]
        },
        {
          "output_type": "stream",
          "name": "stderr",
          "text": [
            "/usr/local/lib/python3.10/dist-packages/xgboost/core.py:158: UserWarning: [16:52:14] WARNING: /workspace/src/learner.cc:740: \n",
            "Parameters: { \"use_label_encoder\" } are not used.\n",
            "\n",
            "  warnings.warn(smsg, UserWarning)\n"
          ]
        }
      ]
    },
    {
      "cell_type": "markdown",
      "source": [
        "https://colab.research.google.com/drive/1AXZAgOzQ-rfVfxx05ZzMFipk2PV2LYdp?usp=sharing"
      ],
      "metadata": {
        "id": "jpAubgtleVjj"
      }
    }
  ]
}